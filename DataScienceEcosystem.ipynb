{
 "cells": [
  {
   "cell_type": "markdown",
   "id": "2fdf48ff",
   "metadata": {},
   "source": [
    "# Data Science Tools and Ecosystem"
   ]
  },
  {
   "cell_type": "markdown",
   "id": "409c17a4",
   "metadata": {},
   "source": [
    "In this notebook, Data Science Tools and Ecosystem are summarized"
   ]
  },
  {
   "cell_type": "markdown",
   "id": "647c7c48",
   "metadata": {},
   "source": [
    "**Objectives**\n",
    "* List Popular Languages for data Science\n",
    "* List common used libraries \n",
    "* List Data Science Tools\n",
    "* Evaluate arithmetic expressions\n",
    "* How to use markdowns including formatting ( headers, bold, ordered/unordered lists)\n"
   ]
  },
  {
   "cell_type": "markdown",
   "id": "737b9fca",
   "metadata": {},
   "source": [
    "## Author\n",
    "Hannah Sugrue Burnell"
   ]
  },
  {
   "cell_type": "markdown",
   "id": "b39be8da",
   "metadata": {},
   "source": [
    "Some of the popular languages that Data Scientists use are:\n",
    "1. Python\n",
    "2. R\n",
    "3. SQL Languages\n",
    "4. Scala\n",
    "5. Java\n",
    "6. C++\n"
   ]
  },
  {
   "cell_type": "markdown",
   "id": "8b50a219",
   "metadata": {},
   "source": [
    "Some of the common used libraries used by Data Scientists include:\n",
    "1. Pandas\n",
    "2. NumPy\n",
    "3. Matplotlib\n",
    "4. Seaborn\n",
    "5. Sclkit-learn\n",
    "6. Tensorflow\n",
    "7. Pytorch\n",
    "8. Apache Spark\n",
    "9. Vegas\n",
    "10. ggplot2"
   ]
  },
  {
   "cell_type": "markdown",
   "id": "c2e1672b",
   "metadata": {},
   "source": [
    "|Data Science Tools|\n",
    "|------------------|\n",
    "|Jupyter|\n",
    "|Apache Zepplin|\n",
    "|R Studio|\n"
   ]
  },
  {
   "cell_type": "markdown",
   "id": "94f069d3",
   "metadata": {},
   "source": [
    "### Below are a few examples of evaluaing arithmetic expressions in Python."
   ]
  },
  {
   "cell_type": "code",
   "execution_count": 3,
   "id": "02cf2ace",
   "metadata": {},
   "outputs": [
    {
     "data": {
      "text/plain": [
       "17"
      ]
     },
     "execution_count": 3,
     "metadata": {},
     "output_type": "execute_result"
    }
   ],
   "source": [
    "# This is a simple arithetic expression to multiply then ass intergers\n",
    "(3*4)+5"
   ]
  },
  {
   "cell_type": "code",
   "execution_count": 4,
   "id": "1a689673",
   "metadata": {},
   "outputs": [
    {
     "data": {
      "text/plain": [
       "3.3333333333333335"
      ]
     },
     "execution_count": 4,
     "metadata": {},
     "output_type": "execute_result"
    }
   ],
   "source": [
    "#This will convert 200 minuite to hours by dividing by 60\n",
    "200/60"
   ]
  },
  {
   "cell_type": "code",
   "execution_count": null,
   "id": "ad8d9884",
   "metadata": {},
   "outputs": [],
   "source": []
  }
 ],
 "metadata": {
  "kernelspec": {
   "display_name": "Python 3 (ipykernel)",
   "language": "python",
   "name": "python3"
  },
  "language_info": {
   "codemirror_mode": {
    "name": "ipython",
    "version": 3
   },
   "file_extension": ".py",
   "mimetype": "text/x-python",
   "name": "python",
   "nbconvert_exporter": "python",
   "pygments_lexer": "ipython3",
   "version": "3.11.5"
  }
 },
 "nbformat": 4,
 "nbformat_minor": 5
}
